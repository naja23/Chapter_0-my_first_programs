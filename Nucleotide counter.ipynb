{
 "cells": [
  {
   "cell_type": "code",
   "execution_count": 137,
   "id": "1fa66a1a-f9d0-4fa0-9c83-86785e1146e0",
   "metadata": {},
   "outputs": [
    {
     "name": "stdin",
     "output_type": "stream",
     "text": [
      "Please, write your nucleic acid sequence AAAATTTTGGGG\n"
     ]
    },
    {
     "name": "stdout",
     "output_type": "stream",
     "text": [
      "The sequence was successfully computed!\n",
      "{'A': 4, 'T': 4, 'G': 4}\n",
      "The complement strand is TTTTAAAACCCC\n"
     ]
    }
   ],
   "source": [
    "#Nucletide counter v. 1.0 by Daniel Marques\n",
    "import re\n",
    "dictionary = {}\n",
    "class word_counting_class(object):\n",
    "    def __init__(self, text):\n",
    "        preparing_list = re.findall('[A-Z][^A-Z]*', text) #it adds a space between characters.\n",
    "        self.text = preparing_list\n",
    "        self.string = text\n",
    "    def word_count(self):\n",
    "        for word in set(self.text):\n",
    "            dictionary[word] = self.text.count(word)\n",
    "        print(dictionary)\n",
    "    def complement_strand(self):\n",
    "# http://fenyolab.org/presentations/Introduction_Biostatistics_Bioinformatics_2014/pdf/1_2.pdf\n",
    "        def polymerase(nucleic_acid):\n",
    "            new_sequence = \"\"\n",
    "            adder = \"\"\n",
    "            for i in nucleic_acid:\n",
    "                if i == \"A\":\n",
    "                    adder = \"T\"\n",
    "                elif i == \"T\":\n",
    "                    adder = \"A\"\n",
    "                elif i == \"C\":\n",
    "                    adder = \"G\"\n",
    "                elif i == \"G\":\n",
    "                    adder = \"C\"\n",
    "                else:\n",
    "                    pass\n",
    "                new_sequence = new_sequence + adder\n",
    "            print(\"The complement strand is\", new_sequence)\n",
    "        polymerase(self.string)\n",
    "nucleotides = [\"A\", \"T\", \"G\", \"C\", \"U\"]\n",
    "user_input = input(\"Please, write your nucleic acid sequence\")\n",
    "if any(x not in nucleotides for x in user_input):\n",
    "    print(\"This isn't a valid nucleotide sequence. Please, try again.\")\n",
    "else:\n",
    "    print(\"The sequence was successfully computed!\")\n",
    "    a = word_counting_class(user_input)\n",
    "    a.word_count()\n",
    "    a.complement_strand()"
   ]
  },
  {
   "cell_type": "code",
   "execution_count": null,
   "id": "f1870688-17c1-409f-a479-5863c6668bdf",
   "metadata": {},
   "outputs": [],
   "source": []
  },
  {
   "cell_type": "code",
   "execution_count": null,
   "id": "e2e58675-eb8e-4e3c-8463-6d5df08ec594",
   "metadata": {},
   "outputs": [],
   "source": []
  },
  {
   "cell_type": "code",
   "execution_count": null,
   "id": "f071e0db-8143-4b71-9efa-c0501917bbc7",
   "metadata": {},
   "outputs": [],
   "source": []
  }
 ],
 "metadata": {
  "kernelspec": {
   "display_name": "Python 3",
   "language": "python",
   "name": "python3"
  },
  "language_info": {
   "codemirror_mode": {
    "name": "ipython",
    "version": 3
   },
   "file_extension": ".py",
   "mimetype": "text/x-python",
   "name": "python",
   "nbconvert_exporter": "python",
   "pygments_lexer": "ipython3",
   "version": "3.8.8"
  }
 },
 "nbformat": 4,
 "nbformat_minor": 5
}
