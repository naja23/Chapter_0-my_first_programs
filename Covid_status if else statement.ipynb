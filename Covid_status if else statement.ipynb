{
 "cells": [
  {
   "cell_type": "code",
   "execution_count": 57,
   "id": "696be2cf-ccf2-45fc-919d-bd61b057884e",
   "metadata": {},
   "outputs": [
    {
     "name": "stdout",
     "output_type": "stream",
     "text": [
      "Go home!\n",
      "control line\n"
     ]
    }
   ],
   "source": [
    "covid_status = True\n",
    "if (covid_status == True):\n",
    "    print(\"Go home!\")\n",
    "else:\n",
    "    print (\"Get a vaccine!\")\n",
    "print (\"control line\")"
   ]
  },
  {
   "cell_type": "code",
   "execution_count": null,
   "id": "83133c4f-073e-4085-891c-6c6207d19598",
   "metadata": {},
   "outputs": [],
   "source": []
  }
 ],
 "metadata": {
  "kernelspec": {
   "display_name": "Python 3",
   "language": "python",
   "name": "python3"
  },
  "language_info": {
   "codemirror_mode": {
    "name": "ipython",
    "version": 3
   },
   "file_extension": ".py",
   "mimetype": "text/x-python",
   "name": "python",
   "nbconvert_exporter": "python",
   "pygments_lexer": "ipython3",
   "version": "3.8.8"
  }
 },
 "nbformat": 4,
 "nbformat_minor": 5
}
