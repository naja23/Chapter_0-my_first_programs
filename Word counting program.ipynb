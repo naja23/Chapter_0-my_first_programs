{
 "cells": [
  {
   "cell_type": "code",
   "execution_count": 48,
   "id": "0b467f47-c809-4c52-92a5-df73187a8356",
   "metadata": {},
   "outputs": [],
   "source": [
    "#Word counting program"
   ]
  },
  {
   "cell_type": "code",
   "execution_count": 21,
   "id": "a67e4b21-1c89-461c-91b7-26c93a9439cb",
   "metadata": {},
   "outputs": [
    {
     "name": "stdin",
     "output_type": "stream",
     "text": [
      " hi hi hi\n"
     ]
    },
    {
     "name": "stdout",
     "output_type": "stream",
     "text": [
      "{'hi': 3}\n"
     ]
    }
   ],
   "source": [
    "class text_reader(object):\n",
    "    def __init__ (self, text):\n",
    "        preparing_text = text.lower().replace(\".\",\"\").replace(\"!\",\"\").replace(\"?\",\"\").replace(\",\",\"\")\n",
    "        self.text = preparing_text\n",
    "    def word_count(self):\n",
    "        dictionary = {}\n",
    "        word_split = self.text.split()\n",
    "        for word in set(word_split):\n",
    "            dictionary[word] = word_split.count(word)\n",
    "        print(dictionary)\n",
    "text_to_analysis = input()\n",
    "a = text_reader(text_to_analysis)\n",
    "a.word_count()"
   ]
  },
  {
   "cell_type": "code",
   "execution_count": null,
   "id": "721e1c60-39fe-4227-8c9d-12cf24f30fa6",
   "metadata": {},
   "outputs": [],
   "source": []
  }
 ],
 "metadata": {
  "kernelspec": {
   "display_name": "Python 3",
   "language": "python",
   "name": "python3"
  },
  "language_info": {
   "codemirror_mode": {
    "name": "ipython",
    "version": 3
   },
   "file_extension": ".py",
   "mimetype": "text/x-python",
   "name": "python",
   "nbconvert_exporter": "python",
   "pygments_lexer": "ipython3",
   "version": "3.8.8"
  }
 },
 "nbformat": 4,
 "nbformat_minor": 5
}
