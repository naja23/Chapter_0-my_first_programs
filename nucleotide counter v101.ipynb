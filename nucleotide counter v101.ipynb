{
 "cells": [
  {
   "cell_type": "code",
   "execution_count": 2,
   "id": "0707b7c1-7285-4786-912c-098f26712790",
   "metadata": {},
   "outputs": [
    {
     "name": "stdin",
     "output_type": "stream",
     "text": [
      "Please, write your nucleic acid sequence UUUUUUU\n"
     ]
    },
    {
     "name": "stdout",
     "output_type": "stream",
     "text": [
      "The sequence was successfully computed!\n",
      "{'U': 7}\n",
      "The complement strand is AAAAAAA\n"
     ]
    }
   ],
   "source": [
    "#Nucletide counter v. 1.01 by Daniel Marques\n",
    "import re\n",
    "dictionary = {}\n",
    "class word_counting_class(object):\n",
    "    def __init__(self, text):\n",
    "        preparing_list = re.findall('[A-Z][^A-Z]*', text) #it adds a space between characters.\n",
    "        self.text = preparing_list\n",
    "        self.string = text\n",
    "    def word_count(self):\n",
    "        for word in set(self.text):\n",
    "            dictionary[word] = self.text.count(word)\n",
    "        print(dictionary)\n",
    "    def complement_strand(self):\n",
    "# http://fenyolab.org/presentations/Introduction_Biostatistics_Bioinformatics_2014/pdf/1_2.pdf\n",
    "        def polymerase(nucleic_acid):\n",
    "            new_sequence = \"\"\n",
    "            adder = \"\"\n",
    "            for base in nucleic_acid:\n",
    "                if base == \"A\":\n",
    "                    adder = \"T\"\n",
    "                elif base == \"T\":\n",
    "                    adder = \"A\"\n",
    "                elif base == \"C\":\n",
    "                    adder = \"G\"\n",
    "                elif base == \"G\":\n",
    "                    adder = \"C\"\n",
    "                elif base == \"U\":\n",
    "                    adder = \"A\"\n",
    "                else:\n",
    "                    pass\n",
    "                new_sequence = new_sequence + adder\n",
    "            print(\"The complement strand is\", new_sequence)\n",
    "        polymerase(self.string)\n",
    "nucleotides = [\"A\", \"T\", \"G\", \"C\", \"U\"]\n",
    "user_input = input(\"Please, write your nucleic acid sequence\")\n",
    "if any(x not in nucleotides for x in user_input):\n",
    "    print(\"This isn't a valid nucleotide sequence. Please, try again.\")\n",
    "else:\n",
    "    print(\"The sequence was successfully computed!\")\n",
    "    a = word_counting_class(user_input)\n",
    "    a.word_count()\n",
    "    a.complement_strand()"
   ]
  },
  {
   "cell_type": "code",
   "execution_count": null,
   "id": "15c3b4b4-4a6e-46f3-a552-d0237e660fe8",
   "metadata": {},
   "outputs": [],
   "source": []
  }
 ],
 "metadata": {
  "kernelspec": {
   "display_name": "Python 3",
   "language": "python",
   "name": "python3"
  },
  "language_info": {
   "codemirror_mode": {
    "name": "ipython",
    "version": 3
   },
   "file_extension": ".py",
   "mimetype": "text/x-python",
   "name": "python",
   "nbconvert_exporter": "python",
   "pygments_lexer": "ipython3",
   "version": "3.8.8"
  }
 },
 "nbformat": 4,
 "nbformat_minor": 5
}
